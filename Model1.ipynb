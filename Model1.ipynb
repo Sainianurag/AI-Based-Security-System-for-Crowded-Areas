{
 "cells": [
  {
   "cell_type": "code",
   "execution_count": 1,
   "id": "63359e98",
   "metadata": {},
   "outputs": [],
   "source": [
    "import cv2\n",
    "import dlib\n",
    "import face_recognition\n",
    "import numpy as np\n",
    "\n",
    "# Load pre-trained models\n",
    "detector = dlib.get_frontal_face_detector()\n",
    "predictor = dlib.shape_predictor(\"shape_predictor_68_face_landmarks (2).dat\")\n",
    "face_recognizer = dlib.face_recognition_model_v1(\"dlib_face_recognition_resnet_model_v1.dat\")\n",
    "\n",
    "# Load a sample image to search for\n",
    "search_image = face_recognition.load_image_file(\"C:\\\\Users\\\\saini\\\\OneDrive\\\\Desktop\\\\WhatsApp Image 2024-01-31 at 13.26.14_37e76d09.jpg\")\n",
    "search_face_descriptor = face_recognition.face_encodings(search_image)[0]\n",
    "\n",
    "# Open video capture\n",
    "cap = cv2.VideoCapture(\"C:\\\\Users\\\\saini\\\\OneDrive\\\\Desktop\\\\WhatsApp Video 2024-01-16 at 20.32.17_f159e9d8.mp4\")\n",
    "\n",
    "while cap.isOpened():\n",
    "    ret, frame = cap.read()\n",
    "    if not ret:\n",
    "        break\n",
    "\n",
    "    # Detect faces in the current frame\n",
    "    faces = detector(frame)\n",
    "\n",
    "    for face in faces:\n",
    "        shape = predictor(frame, face)\n",
    "        face_descriptor_dlib = face_recognizer.compute_face_descriptor(frame, shape)\n",
    "        \n",
    "        # Convert face descriptor to NumPy array\n",
    "        face_descriptor_numpy = np.array(face_descriptor_dlib)\n",
    "\n",
    "        # Compare the face descriptor with the search image\n",
    "        match = face_recognition.compare_faces([search_face_descriptor], face_descriptor_numpy, tolerance=0.6)[0]\n",
    "\n",
    "        if match:\n",
    "            # Draw rectangle around the matching face\n",
    "            (x, y, w, h) = (face.left(), face.top(), face.width(), face.height())\n",
    "            cv2.rectangle(frame, (x, y), (x + w, y + h), (0, 255, 0), 2)\n",
    "\n",
    "    # Display the frame\n",
    "    cv2.imshow(\"Video Search\", frame)\n",
    "\n",
    "    # Break the loop when 'q' key is pressed\n",
    "    if cv2.waitKey(1) & 0xFF == ord('q'):\n",
    "        break\n",
    "\n",
    "# Release the video capture object\n",
    "cap.release()\n",
    "cv2.destroyAllWindows()\n"
   ]
  },
  {
   "cell_type": "code",
   "execution_count": 1,
   "id": "b5c3c6c8",
   "metadata": {},
   "outputs": [
    {
     "name": "stdout",
     "output_type": "stream",
     "text": [
      "Defaulting to user installation because normal site-packages is not writeable\n",
      "Requirement already satisfied: dlib in c:\\users\\saini\\appdata\\roaming\\python\\python39\\site-packages (19.24.2)\n"
     ]
    },
    {
     "name": "stderr",
     "output_type": "stream",
     "text": [
      "WARNING: Ignoring invalid distribution -pencv-python (c:\\users\\saini\\appdata\\roaming\\python\\python39\\site-packages)\n",
      "WARNING: Ignoring invalid distribution -pencv-python (c:\\users\\saini\\appdata\\roaming\\python\\python39\\site-packages)\n",
      "WARNING: Ignoring invalid distribution -pencv-python (c:\\users\\saini\\appdata\\roaming\\python\\python39\\site-packages)\n",
      "WARNING: Ignoring invalid distribution -pencv-python (c:\\users\\saini\\appdata\\roaming\\python\\python39\\site-packages)\n",
      "WARNING: Ignoring invalid distribution -pencv-python (c:\\users\\saini\\appdata\\roaming\\python\\python39\\site-packages)\n",
      "WARNING: Ignoring invalid distribution -pencv-python (c:\\users\\saini\\appdata\\roaming\\python\\python39\\site-packages)\n"
     ]
    }
   ],
   "source": [
    "!pip install dlib\n"
   ]
  },
  {
   "cell_type": "code",
   "execution_count": null,
   "id": "4913c0cd",
   "metadata": {},
   "outputs": [],
   "source": []
  },
  {
   "cell_type": "code",
   "execution_count": null,
   "id": "18d61dd4",
   "metadata": {},
   "outputs": [],
   "source": []
  },
  {
   "cell_type": "code",
   "execution_count": 1,
   "id": "6882f2c2",
   "metadata": {},
   "outputs": [],
   "source": [
    "import cv2\n",
    "import dlib\n",
    "import face_recognition\n",
    "import numpy as np\n",
    "\n",
    "# Load pre-trained models\n",
    "detector = dlib.get_frontal_face_detector()\n",
    "predictor = dlib.shape_predictor(\"shape_predictor_68_face_landmarks (2).dat\")\n",
    "face_recognizer = dlib.face_recognition_model_v1(\"dlib_face_recognition_resnet_model_v1.dat\")\n",
    "\n",
    "# Load a sample image to search for\n",
    "search_image = face_recognition.load_image_file(r\"C:\\Users\\saini\\Downloads\\WhatsApp Image 2024-02-05 at 9.17.11 PM.jpeg\")\n",
    "search_face_descriptor = face_recognition.face_encodings(search_image)[0]\n",
    "\n",
    "# Open video capture from the default camera (camera index 0)\n",
    "cap = cv2.VideoCapture(0)\n",
    "\n",
    "while cap.isOpened():\n",
    "    ret, frame = cap.read()\n",
    "    if not ret:\n",
    "        break\n",
    "\n",
    "    # Detect faces in the current frame\n",
    "    faces = detector(frame)\n",
    "\n",
    "    for face in faces:\n",
    "        shape = predictor(frame, face)\n",
    "        face_descriptor_dlib = face_recognizer.compute_face_descriptor(frame, shape)\n",
    "        \n",
    "        # Convert face descriptor to NumPy array\n",
    "        face_descriptor_numpy = np.array(face_descriptor_dlib)\n",
    "\n",
    "        # Compare the face descriptor with the search image\n",
    "        match = face_recognition.compare_faces([search_face_descriptor], face_descriptor_numpy, tolerance=0.6)[0]\n",
    "\n",
    "        if match:\n",
    "            # Draw rectangle around the matching face\n",
    "            (x, y, w, h) = (face.left(), face.top(), face.width(), face.height())\n",
    "            cv2.rectangle(frame, (x, y), (x + w, y + h), (0, 255, 0), 2)\n",
    "\n",
    "    # Display the frame\n",
    "    cv2.imshow(\"Video Search\", frame)\n",
    "\n",
    "    # Break the loop when 'q' key is pressed\n",
    "    if cv2.waitKey(1) & 0xFF == ord('q'):\n",
    "        break\n",
    "\n",
    "# Release the video capture object\n",
    "cap.release()\n",
    "cv2.destroyAllWindows()\n"
   ]
  },
  {
   "cell_type": "code",
   "execution_count": null,
   "id": "11aee4d4",
   "metadata": {},
   "outputs": [],
   "source": []
  },
  {
   "cell_type": "code",
   "execution_count": 6,
   "id": "f5d3ebb6",
   "metadata": {},
   "outputs": [
    {
     "name": "stdout",
     "output_type": "stream",
     "text": [
      "Accuracy: 20.00%\n"
     ]
    }
   ],
   "source": [
    "import cv2\n",
    "import dlib\n",
    "import face_recognition\n",
    "import numpy as np\n",
    "\n",
    "# Load pre-trained models\n",
    "detector = dlib.get_frontal_face_detector()\n",
    "predictor = dlib.shape_predictor(\"shape_predictor_68_face_landmarks (2).dat\")\n",
    "face_recognizer = dlib.face_recognition_model_v1(\"dlib_face_recognition_resnet_model_v1.dat\")\n",
    "\n",
    "# Load a sample image to search for\n",
    "search_image = face_recognition.load_image_file(r\"C:\\Users\\saini\\Downloads\\WhatsApp Image 2024-02-05 at 9.17.11 PM.jpeg\")\n",
    "search_face_descriptor = face_recognition.face_encodings(search_image)[0]\n",
    "\n",
    "# Load labeled dataset (replace with your labeled dataset)\n",
    "labeled_dataset = [\n",
    "    {\"image_path\": r\"C:\\Users\\saini\\Downloads\\WhatsApp Image 2024-02-05 at 9.17.11 PM.jpeg\", \"label\": \"person1\"},\n",
    "    {\"image_path\": r\"C:\\Users\\saini\\Downloads\\WhatsApp Image 2024-02-22 at 9.44.33 PM.jpeg\", \"label\": \"person2\"},\n",
    "    {\"image_path\": r\"C:\\Users\\saini\\Downloads\\WhatsApp Image 2024-02-22 at 9.47.58 PM.jpeg\", \"label\": \"person3\"},\n",
    "    {\"image_path\": r\"C:\\Users\\saini\\OneDrive\\Pictures\\Screenshots\\Screenshot 2024-02-22 215025.png\", \"label\": \"person4\"},\n",
    "    {\"image_path\": r\"C:\\Users\\saini\\OneDrive\\Pictures\\Screenshots\\Screenshot 2024-02-06 150434.png\", \"label\": \"person5\"},\n",
    "    # Add more labeled data\n",
    "]\n",
    "\n",
    "correct_predictions = 0\n",
    "total_predictions = len(labeled_dataset)\n",
    "\n",
    "for data in labeled_dataset:\n",
    "    image_path = data[\"image_path\"]\n",
    "    label = data[\"label\"]\n",
    "\n",
    "    # Load image from the labeled dataset\n",
    "    labeled_image = face_recognition.load_image_file(image_path)\n",
    "    labeled_face_descriptor = face_recognition.face_encodings(labeled_image)[0]\n",
    "\n",
    "    # Compare the face descriptor with the search image\n",
    "    match = face_recognition.compare_faces([search_face_descriptor], labeled_face_descriptor, tolerance=0.6)[0]\n",
    "\n",
    "    if match and label == \"person1\":  # Replace \"person1\" with the correct label for this image\n",
    "        correct_predictions += 1\n",
    "\n",
    "# Calculate accuracy\n",
    "accuracy = correct_predictions / total_predictions\n",
    "print(f\"Accuracy: {accuracy * 100:.2f}%\")\n"
   ]
  },
  {
   "cell_type": "code",
   "execution_count": null,
   "id": "bc0d41b5",
   "metadata": {},
   "outputs": [],
   "source": []
  }
 ],
 "metadata": {
  "kernelspec": {
   "display_name": "Python 3 (ipykernel)",
   "language": "python",
   "name": "python3"
  },
  "language_info": {
   "codemirror_mode": {
    "name": "ipython",
    "version": 3
   },
   "file_extension": ".py",
   "mimetype": "text/x-python",
   "name": "python",
   "nbconvert_exporter": "python",
   "pygments_lexer": "ipython3",
   "version": "3.9.13"
  }
 },
 "nbformat": 4,
 "nbformat_minor": 5
}
